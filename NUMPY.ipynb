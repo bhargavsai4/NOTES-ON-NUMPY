{
 "cells": [
  {
   "cell_type": "markdown",
   "id": "e75115e1-e4eb-4185-b728-60cb8e1b3464",
   "metadata": {},
   "source": [
    "# A Comprehensive Guide to NumPy for Data Science Application|"
   ]
  },
  {
   "cell_type": "markdown",
   "id": "0af40527-1fbe-473b-8e95-2a7e30a5e584",
   "metadata": {},
   "source": [
    "NumPy is a fundamental package for numerical computing in Python. It provides support for large, multi-dimensional arrays and matrices, along with a collection of high-level mathematical functions to operate on these arrays. Given its efficiency and versatility, NumPy is widely used in scientific computing, data analysis, and machine learning."
   ]
  },
  {
   "cell_type": "markdown",
   "id": "e6ba96fe-2823-4163-8b30-1a0a9cfec28f",
   "metadata": {},
   "source": [
    "Creating Arrays"
   ]
  },
  {
   "cell_type": "code",
   "execution_count": 2,
   "id": "8a83857d-a6d2-4104-9b4d-d9acc6e6f29e",
   "metadata": {},
   "outputs": [
    {
     "name": "stdout",
     "output_type": "stream",
     "text": [
      "1D Array: [1 2 3 4 5]\n",
      "2D Array:\n",
      " [[1 2 3]\n",
      " [4 5 6]]\n"
     ]
    }
   ],
   "source": [
    "import numpy as np\n",
    "\n",
    "array_1d = np.array([1, 2, 3, 4, 5])\n",
    "array_2d = np.array([[1, 2, 3], [4, 5, 6]])\n",
    "\n",
    "print(\"1D Array:\", array_1d)\n",
    "print(\"2D Array:\\n\", array_2d)\n"
   ]
  },
  {
   "cell_type": "markdown",
   "id": "d969d11a-a08d-46d2-b6b1-6e1cb67fe189",
   "metadata": {},
   "source": [
    "PERFORMING BASIC OPERATIONS WITH NUMPY"
   ]
  },
  {
   "cell_type": "markdown",
   "id": "f0e8cbba-4404-43ae-849b-a97929e70319",
   "metadata": {},
   "source": [
    "NumPy allows you to perform a wide range of basic operations on arrays, including arithmetic,mathematical functions, and aggregation. These operations are typically performed element-wise, making them highly efficient"
   ]
  },
  {
   "cell_type": "code",
   "execution_count": 5,
   "id": "912b45f8-cd65-4a12-a090-2486086ebb0e",
   "metadata": {},
   "outputs": [
    {
     "name": "stdout",
     "output_type": "stream",
     "text": [
      "Addition result: [5 7 9]\n",
      "Multiplication result: [ 4 10 18]\n",
      "Scalar addition result: [11 12 13]\n",
      "Scalar multiplication result: [ 8 10 12]\n"
     ]
    }
   ],
   "source": [
    "import numpy as np\n",
    "\n",
    "a = np.array([1, 2, 3])\n",
    "b = np.array([4, 5, 6])\n",
    "\n",
    "add_result = a + b\n",
    "mul_result = a * b\n",
    "scalar_add = a + 10\n",
    "scalar_mul = b * 2\n",
    "\n",
    "print(\"Addition result:\", add_result)\n",
    "print(\"Multiplication result:\", mul_result)\n",
    "print(\"Scalar addition result:\", scalar_add)\n",
    "print(\"Scalar multiplication result:\", scalar_mul)\n"
   ]
  },
  {
   "cell_type": "markdown",
   "id": "2a2a2407-c1ed-43c3-8099-bfa993535736",
   "metadata": {},
   "source": [
    "UNDERSTANDING ARRAY PROPERTIES USING NUMPY"
   ]
  },
  {
   "cell_type": "markdown",
   "id": "5da704ff-a4b0-4694-b5d0-2357d77c62e6",
   "metadata": {},
   "source": [
    "Understanding the properties of NumPy arrays is essential for efficient data manipulation and analysis. NumPy arrays come with various attributes that provide valuable information about their structure, including shape, dimensions, size, data type, and more."
   ]
  },
  {
   "cell_type": "markdown",
   "id": "e92ed9ac-6d2f-4b3a-a681-7687108bb72f",
   "metadata": {},
   "source": [
    "1. SHAPE AND DIMENSIONS"
   ]
  },
  {
   "cell_type": "code",
   "execution_count": 6,
   "id": "9aa7a9cb-b579-4d77-b044-10b736868f2b",
   "metadata": {},
   "outputs": [
    {
     "name": "stdout",
     "output_type": "stream",
     "text": [
      "Shape of 1D array: (5,)\n",
      "Shape of 2D array: (2, 3)\n",
      "Dimensions of 1D array: 1\n",
      "Dimensions of 2D array: 2\n"
     ]
    }
   ],
   "source": [
    "import numpy as np\n",
    "\n",
    "array_1d = np.array([1, 2, 3, 4, 5])\n",
    "array_2d = np.array([[1, 2, 3], [4, 5, 6]])\n",
    "\n",
    "shape_1d = array_1d.shape\n",
    "shape_2d = array_2d.shape\n",
    "dim_1d = array_1d.ndim\n",
    "dim_2d = array_2d.ndim\n",
    "\n",
    "print(\"Shape of 1D array:\", shape_1d)\n",
    "print(\"Shape of 2D array:\", shape_2d)\n",
    "print(\"Dimensions of 1D array:\", dim_1d)\n",
    "print(\"Dimensions of 2D array:\", dim_2d)\n"
   ]
  },
  {
   "cell_type": "markdown",
   "id": "860bca56-b510-4ada-be14-12b8f2f5caf3",
   "metadata": {},
   "source": [
    "2. SIZE"
   ]
  },
  {
   "cell_type": "code",
   "execution_count": 7,
   "id": "2dbe6f88-0660-41a6-8363-44f7dcb69b53",
   "metadata": {},
   "outputs": [
    {
     "name": "stdout",
     "output_type": "stream",
     "text": [
      "Size of 1D array: 5\n",
      "Size of 2D array: 6\n"
     ]
    }
   ],
   "source": [
    "size_1d = array_1d.size\n",
    "size_2d = array_2d.size\n",
    "\n",
    "print(\"Size of 1D array:\", size_1d)\n",
    "print(\"Size of 2D array:\", size_2d)\n"
   ]
  },
  {
   "cell_type": "markdown",
   "id": "3a3903fe-b1d5-4c21-8aa2-aef33546f5a5",
   "metadata": {},
   "source": [
    "3. DATA TYPE (dtype)"
   ]
  },
  {
   "cell_type": "code",
   "execution_count": 8,
   "id": "7a3c7462-e7ba-43ab-8a6e-2402d7e1f264",
   "metadata": {},
   "outputs": [
    {
     "name": "stdout",
     "output_type": "stream",
     "text": [
      "Data type of 1D array: int32\n",
      "Float array: [1.2 2.3 3.4]\n",
      "Array after type casting: [1 2 3]\n"
     ]
    }
   ],
   "source": [
    "dtype_1d = array_1d.dtype\n",
    "float_array = np.array([1.2, 2.3, 3.4], dtype='float32')\n",
    "int_array = float_array.astype('int32')\n",
    "\n",
    "print(\"Data type of 1D array:\", dtype_1d)\n",
    "print(\"Float array:\", float_array)\n",
    "print(\"Array after type casting:\", int_array)\n"
   ]
  },
  {
   "cell_type": "markdown",
   "id": "8f63ba94-2a11-411f-823d-2840805b6041",
   "metadata": {},
   "source": [
    "DATA MANIPULATION USING NUMPY"
   ]
  },
  {
   "cell_type": "markdown",
   "id": "a1f7f383-d9e6-46a3-9359-989fafab8b3b",
   "metadata": {},
   "source": [
    "NumPy provides powerful capabilities for data manipulation, enabling efficient handling of arrays through creation, indexing, slicing, reshaping, and mathematical operations."
   ]
  },
  {
   "cell_type": "markdown",
   "id": "99b14bce-13c4-474d-960f-616059995a45",
   "metadata": {},
   "source": [
    "INDEXING"
   ]
  },
  {
   "cell_type": "code",
   "execution_count": 14,
   "id": "2ff6ad4a-1bdf-405c-930d-a80de5bee0f2",
   "metadata": {},
   "outputs": [
    {
     "name": "stdout",
     "output_type": "stream",
     "text": [
      "Element from 1D array: 3\n",
      "Element from 2D array: 6\n"
     ]
    }
   ],
   "source": [
    "element_1d = array_1d[2]\n",
    "element_2d = array_2d[1, 2]\n",
    "print(\"Element from 1D array:\", element_1d)\n",
    "print(\"Element from 2D array:\", element_2d)"
   ]
  },
  {
   "cell_type": "markdown",
   "id": "f69b059e-c148-49be-8092-cd0be9d44b3d",
   "metadata": {},
   "source": [
    "SLICING"
   ]
  },
  {
   "cell_type": "code",
   "execution_count": 15,
   "id": "6e358cee-4bd9-45f5-8d11-0ee665804f03",
   "metadata": {},
   "outputs": [
    {
     "name": "stdout",
     "output_type": "stream",
     "text": [
      "Slice of 1D array: [2 3 4]\n",
      "Slice of 2D array:\n",
      " [[2 3]\n",
      " [5 6]]\n"
     ]
    }
   ],
   "source": [
    "slice_1d = array_1d[1:4]\n",
    "slice_2d = array_2d[:, 1:3]\n",
    "\n",
    "print(\"Slice of 1D array:\", slice_1d)\n",
    "print(\"Slice of 2D array:\\n\", slice_2d)"
   ]
  },
  {
   "cell_type": "markdown",
   "id": "7635f467-4e3f-4444-86f9-7f37fa7640be",
   "metadata": {},
   "source": [
    "RESHAPING"
   ]
  },
  {
   "cell_type": "code",
   "execution_count": 16,
   "id": "9d9a4167-3da2-44b5-899e-026ab0ca36f2",
   "metadata": {},
   "outputs": [
    {
     "name": "stdout",
     "output_type": "stream",
     "text": [
      "Reshaped array:\n",
      " [[ 0  1  2  3]\n",
      " [ 4  5  6  7]\n",
      " [ 8  9 10 11]]\n"
     ]
    }
   ],
   "source": [
    "reshaped_array = np.arange(12).reshape((3, 4))\n",
    "\n",
    "print(\"Reshaped array:\\n\", reshaped_array)"
   ]
  },
  {
   "cell_type": "markdown",
   "id": "0fbf2f2f-c8ee-4a9f-ac17-52d5de534065",
   "metadata": {},
   "source": [
    "Applying Mathematical Operations"
   ]
  },
  {
   "cell_type": "code",
   "execution_count": 17,
   "id": "1c7586ee-abc8-45ec-a2bb-daba277ec4a8",
   "metadata": {},
   "outputs": [
    {
     "name": "stdout",
     "output_type": "stream",
     "text": [
      "Addition result: [5 7 9]\n",
      "Multiplication result: [ 4 10 18]\n",
      "Scalar addition result: [11 12 13]\n",
      "Square root result: [1.         1.41421356 1.73205081]\n"
     ]
    }
   ],
   "source": [
    "a = np.array([1, 2, 3])\n",
    "b = np.array([4, 5, 6])\n",
    "\n",
    "add_result = a + b\n",
    "mul_result = a * b\n",
    "scalar_add = a + 10\n",
    "sqrt_result = np.sqrt(a)\n",
    "\n",
    "print(\"Addition result:\", add_result)\n",
    "print(\"Multiplication result:\", mul_result)\n",
    "print(\"Scalar addition result:\", scalar_add)\n",
    "print(\"Square root result:\", sqrt_result)"
   ]
  },
  {
   "cell_type": "markdown",
   "id": "276327ab-9039-4d4b-84bd-5b9f229bbcb2",
   "metadata": {},
   "source": [
    "DATA AGGREGATION USING NUMPY"
   ]
  },
  {
   "cell_type": "markdown",
   "id": "7f3147e1-b0c6-40c4-886f-5631dacde914",
   "metadata": {},
   "source": [
    "Data aggregation involves computing summary statistics and performing operations that summarize data. NumPy provides efficient functions for calculating various summary statistics, such as mean, median, standard deviation, and sum. Grouping data and aggregating results are essential for data analysis"
   ]
  },
  {
   "cell_type": "code",
   "execution_count": 18,
   "id": "b3e5493c-840c-4c96-95fe-40e379cef080",
   "metadata": {},
   "outputs": [
    {
     "name": "stdout",
     "output_type": "stream",
     "text": [
      "Mean: 30.0\n",
      "Median: 30.0\n",
      "Standard Deviation: 14.142135623730951\n",
      "Sum: 150\n"
     ]
    }
   ],
   "source": [
    "import numpy as np\n",
    "\n",
    "data = np.array([10, 20, 30, 40, 50])\n",
    "\n",
    "mean_result = np.mean(data)\n",
    "median_result = np.median(data)\n",
    "std_dev_result = np.std(data)\n",
    "sum_result = np.sum(data)\n",
    "\n",
    "print(\"Mean:\", mean_result)\n",
    "print(\"Median:\", median_result)\n",
    "print(\"Standard Deviation:\", std_dev_result)\n",
    "print(\"Sum:\", sum_result)\n"
   ]
  },
  {
   "cell_type": "markdown",
   "id": "cd166ef1-bf09-48b4-97a6-cdc482a65dd7",
   "metadata": {},
   "source": [
    "GROUPING DATA"
   ]
  },
  {
   "cell_type": "code",
   "execution_count": 19,
   "id": "ec93545a-346e-49db-9fb4-9073c25bb8b0",
   "metadata": {},
   "outputs": [
    {
     "name": "stdout",
     "output_type": "stream",
     "text": [
      "Mean per column: [40. 50. 60.]\n",
      "Mean per row: [20. 50. 80.]\n"
     ]
    }
   ],
   "source": [
    "data_2d = np.array([[10, 20, 30], [40, 50, 60], [70, 80, 90]])\n",
    "\n",
    "mean_per_column = np.mean(data_2d, axis=0)\n",
    "mean_per_row = np.mean(data_2d, axis=1)\n",
    "\n",
    "print(\"Mean per column:\", mean_per_column)\n",
    "print(\"Mean per row:\", mean_per_row)"
   ]
  },
  {
   "cell_type": "markdown",
   "id": "d0dde4a4-4258-4909-a14e-89e8407766a7",
   "metadata": {},
   "source": [
    "APPLYING AGGREGATIONS TO GROUPS"
   ]
  },
  {
   "cell_type": "code",
   "execution_count": 22,
   "id": "25c1af46-36f1-4719-8e3f-a1f51d41507d",
   "metadata": {},
   "outputs": [
    {
     "name": "stdout",
     "output_type": "stream",
     "text": [
      "Mean value per group: {1: 20.0, 2: 30.0}\n"
     ]
    }
   ],
   "source": [
    "data_structured = np.array([(1, 'A', 10), (2, 'B', 20), (1, 'A', 30), (2, 'B', 40)],\n",
    "                           dtype=[('group', 'i4'), ('category', 'U1'), ('value', 'i4')])\n",
    "\n",
    "grouped_data = np.unique(data_structured['group'])\n",
    "mean_per_group = [np.mean(data_structured[data_structured['group'] == g]['value']) for g in grouped_data]\n",
    "\n",
    "print(\"Mean value per group:\", dict(zip(grouped_data, mean_per_group)))\n"
   ]
  },
  {
   "cell_type": "markdown",
   "id": "b9db202a-3617-4f63-a4fa-ae2186313468",
   "metadata": {},
   "source": [
    "DATA ANALYSIS USING NUMPY"
   ]
  },
  {
   "cell_type": "markdown",
   "id": "20311776-3449-4d18-b6c2-8c02e28e57e3",
   "metadata": {},
   "source": [
    "Data analysis with NumPy involves various techniques to extract insights from data. This includes finding correlations, identifying outliers, and calculating percentiles. NumPy is highly efficient for handling large datasets and performing these analyses quickly."
   ]
  },
  {
   "cell_type": "markdown",
   "id": "4d139aef-be40-4cf5-b6d6-5a8e3065a6ea",
   "metadata": {},
   "source": [
    "FINDING CORRELATIONS"
   ]
  },
  {
   "cell_type": "code",
   "execution_count": 23,
   "id": "d872a437-ea88-4d60-9960-371bffc337c6",
   "metadata": {},
   "outputs": [
    {
     "name": "stdout",
     "output_type": "stream",
     "text": [
      "Correlation coefficient: -0.9999999999999999\n"
     ]
    }
   ],
   "source": [
    "import numpy as np\n",
    "\n",
    "x = np.array([1, 2, 3, 4, 5])\n",
    "y = np.array([5, 4, 3, 2, 1])\n",
    "\n",
    "correlation = np.corrcoef(x, y)[0, 1]\n",
    "\n",
    "print(\"Correlation coefficient:\", correlation)\n"
   ]
  },
  {
   "cell_type": "markdown",
   "id": "3f30b701-54b1-4467-af1c-4554b27c4059",
   "metadata": {},
   "source": [
    "IDENTIFYING OUTLIERS"
   ]
  },
  {
   "cell_type": "code",
   "execution_count": 24,
   "id": "84e90be5-ebd6-436c-865b-c2eb98babc48",
   "metadata": {},
   "outputs": [
    {
     "name": "stdout",
     "output_type": "stream",
     "text": [
      "Outliers: [100]\n"
     ]
    }
   ],
   "source": [
    "from scipy import stats\n",
    "\n",
    "data = np.array([10, 12, 13, 12, 15, 16, 19, 100])\n",
    "z_scores = np.abs(stats.zscore(data))\n",
    "outliers = np.where(z_scores > 2)\n",
    "\n",
    "print(\"Outliers:\", data[outliers])\n"
   ]
  },
  {
   "cell_type": "markdown",
   "id": "a1382c3e-6093-488a-889c-1f3dbfda8b7e",
   "metadata": {},
   "source": [
    "CALCULATING PERCENTILES"
   ]
  },
  {
   "cell_type": "code",
   "execution_count": 25,
   "id": "105a239b-b811-4926-9dfe-3d63188d3422",
   "metadata": {},
   "outputs": [
    {
     "name": "stdout",
     "output_type": "stream",
     "text": [
      "25th percentile: 32.5\n",
      "50th percentile (Median): 55.0\n",
      "75th percentile: 77.5\n"
     ]
    }
   ],
   "source": [
    "data = np.array([10, 20, 30, 40, 50, 60, 70, 80, 90, 100])\n",
    "\n",
    "percentile_25 = np.percentile(data, 25)\n",
    "percentile_50 = np.percentile(data, 50)  # Median\n",
    "percentile_75 = np.percentile(data, 75)\n",
    "\n",
    "print(\"25th percentile:\", percentile_25)\n",
    "print(\"50th percentile (Median):\", percentile_50)\n",
    "print(\"75th percentile:\", percentile_75)\n"
   ]
  },
  {
   "cell_type": "markdown",
   "id": "c5413731-e9a4-46fa-94ad-a562a6f3300f",
   "metadata": {},
   "source": [
    "HIGHLIGHTING NUMPY’S EFFICIENCY IN HANDLING LARGE DATASETS"
   ]
  },
  {
   "cell_type": "markdown",
   "id": "2708cd6d-7223-4792-8160-acefc3a49200",
   "metadata": {},
   "source": [
    "1. Optimized Data Structures"
   ]
  },
  {
   "cell_type": "code",
   "execution_count": 26,
   "id": "4aca44a1-4ecf-4415-b8b6-03baa3e7c05d",
   "metadata": {},
   "outputs": [
    {
     "name": "stdout",
     "output_type": "stream",
     "text": [
      "Memory size of NumPy array: 4000000 bytes\n"
     ]
    }
   ],
   "source": [
    "import numpy as np\n",
    "\n",
    "large_array = np.arange(1_000_000)\n",
    "print(\"Memory size of NumPy array:\", large_array.nbytes, \"bytes\")\n"
   ]
  },
  {
   "cell_type": "markdown",
   "id": "6ab57fd1-db05-4ac7-8499-858fad7622ed",
   "metadata": {},
   "source": [
    "2. Vectorized Operation"
   ]
  },
  {
   "cell_type": "code",
   "execution_count": 27,
   "id": "0603eeaa-b4a8-4259-ac8e-9396d4338ee3",
   "metadata": {},
   "outputs": [
    {
     "name": "stdout",
     "output_type": "stream",
     "text": [
      "First 5 elements of the result: [0.39110793 0.83721924 1.81622003 0.27136852 1.1296074 ]\n"
     ]
    }
   ],
   "source": [
    "import numpy as np\n",
    "\n",
    "large_array = np.random.rand(1_000_000)\n",
    "result = large_array * 2  # Vectorized operation\n",
    "\n",
    "print(\"First 5 elements of the result:\", result[:5])\n"
   ]
  },
  {
   "cell_type": "markdown",
   "id": "713b7604-291c-43ac-a1d1-78c985b7f1e6",
   "metadata": {},
   "source": [
    "3.Broadcasting"
   ]
  },
  {
   "cell_type": "code",
   "execution_count": 28,
   "id": "9dc2e268-6e13-477f-a434-a3e99986f536",
   "metadata": {},
   "outputs": [
    {
     "name": "stdout",
     "output_type": "stream",
     "text": [
      "Shape of result array: (1000, 1000)\n"
     ]
    }
   ],
   "source": [
    "import numpy as np\n",
    "\n",
    "array_2d = np.random.rand(1_000, 1_000)\n",
    "result = array_2d + 10  # Broadcasting operation\n",
    "\n",
    "print(\"Shape of result array:\", result.shape)\n"
   ]
  },
  {
   "cell_type": "markdown",
   "id": "e2a9c784-d1b3-423c-bb2d-f0f106f99f83",
   "metadata": {},
   "source": [
    "APPLICATION IN DATA SCIENCE"
   ]
  },
  {
   "cell_type": "markdown",
   "id": "f18258fb-bff6-4c76-b2ae-1285e83be917",
   "metadata": {},
   "source": [
    "NumPy plays a pivotal role in data science by offering advanced capabilities for numerical computations, data manipulation, and analysis. Its efficient handling of large datasets and powerful array operations make it an essential tool for data science professionals.\n",
    "\n"
   ]
  },
  {
   "cell_type": "code",
   "execution_count": 29,
   "id": "15e4d406-e7c5-484d-b025-28208bd17206",
   "metadata": {},
   "outputs": [
    {
     "name": "stdout",
     "output_type": "stream",
     "text": [
      "Mean value: 0.4999057326433459\n",
      "Time taken: 0.012458324432373047 seconds\n"
     ]
    }
   ],
   "source": [
    "import numpy as np\n",
    "import time\n",
    "\n",
    "data = np.random.rand(10_000_000)\n",
    "\n",
    "start_time = time.time()\n",
    "mean_value = np.mean(data)\n",
    "end_time = time.time()\n",
    "\n",
    "print(\"Mean value:\", mean_value)\n",
    "print(\"Time taken:\", end_time - start_time, \"seconds\")\n"
   ]
  },
  {
   "cell_type": "markdown",
   "id": "62be897e-8ca8-4fcd-bef9-93a943c108bc",
   "metadata": {},
   "source": [
    "Convenient Mathematical Functions\n"
   ]
  },
  {
   "cell_type": "code",
   "execution_count": 30,
   "id": "2919d476-6354-43a1-86e5-0edcf3788a31",
   "metadata": {},
   "outputs": [
    {
     "name": "stdout",
     "output_type": "stream",
     "text": [
      "Mean: 0.49803054386623374\n",
      "Standard Deviation: 0.28563959887250967\n",
      "Covariance Matrix:\n",
      " 0.08167165209614437\n"
     ]
    }
   ],
   "source": [
    "import numpy as np\n",
    "\n",
    "data = np.random.rand(1000)\n",
    "mean = np.mean(data)\n",
    "std_dev = np.std(data)\n",
    "cov_matrix = np.cov(data, rowvar=False)\n",
    "\n",
    "print(\"Mean:\", mean)\n",
    "print(\"Standard Deviation:\", std_dev)\n",
    "print(\"Covariance Matrix:\\n\", cov_matrix)\n"
   ]
  },
  {
   "cell_type": "markdown",
   "id": "1d1651bc-77a8-4ada-97d9-41cebb790478",
   "metadata": {},
   "source": [
    "Support for Multi-Dimensional Arrays"
   ]
  },
  {
   "cell_type": "code",
   "execution_count": 31,
   "id": "c75ee5eb-47ed-4d08-8717-8bd20304867e",
   "metadata": {},
   "outputs": [
    {
     "name": "stdout",
     "output_type": "stream",
     "text": [
      "Mean per slice: [0.49470633 0.51832025 0.53029841 0.48975521 0.49055357 0.46053951\n",
      " 0.48746854 0.52182145 0.50125793 0.54923857]\n"
     ]
    }
   ],
   "source": [
    "import numpy as np\n",
    "\n",
    "array_3d = np.random.rand(10, 10, 10)\n",
    "mean_per_slice = np.mean(array_3d, axis=(1, 2))\n",
    "\n",
    "print(\"Mean per slice:\", mean_per_slice)\n"
   ]
  },
  {
   "cell_type": "markdown",
   "id": "36cc78dd-5769-4295-9ba1-51b0cce0eb49",
   "metadata": {},
   "source": [
    "Integration with Other Libraries"
   ]
  },
  {
   "cell_type": "code",
   "execution_count": 32,
   "id": "b5f6f90f-8de8-4c57-a319-4d6a69f8b9b7",
   "metadata": {},
   "outputs": [
    {
     "name": "stdout",
     "output_type": "stream",
     "text": [
      "DataFrame:\n",
      "           A         B         C\n",
      "0  0.893037  0.291425  0.542391\n",
      "1  0.899151  0.247227  0.173199\n",
      "2  0.687049  0.057271  0.288107\n",
      "3  0.755465  0.463895  0.471268\n",
      "4  0.462153  0.211424  0.598398\n"
     ]
    }
   ],
   "source": [
    "import numpy as np\n",
    "import pandas as pd\n",
    "\n",
    "data = np.random.rand(100, 3)\n",
    "df = pd.DataFrame(data, columns=['A', 'B', 'C'])\n",
    "print(\"DataFrame:\\n\", df.head())\n"
   ]
  },
  {
   "cell_type": "markdown",
   "id": "f3e0f6a0-e307-4609-8e4e-bbe95d464de0",
   "metadata": {},
   "source": [
    "REAL-WORLD EXAMPLES"
   ]
  },
  {
   "cell_type": "code",
   "execution_count": 33,
   "id": "2d1d92a0-e487-481c-b1ed-2f048d4351e7",
   "metadata": {},
   "outputs": [
    {
     "name": "stdout",
     "output_type": "stream",
     "text": [
      "Predictions: [ 2.  4.  6.  8. 10.]\n"
     ]
    }
   ],
   "source": [
    "import numpy as np\n",
    "from sklearn.linear_model import LinearRegression\n",
    "\n",
    "X = np.array([[1], [2], [3], [4], [5]])\n",
    "y = np.array([2, 4, 6, 8, 10])\n",
    "\n",
    "model = LinearRegression().fit(X, y)\n",
    "predictions = model.predict(X)\n",
    "\n",
    "print(\"Predictions:\", predictions)\n"
   ]
  },
  {
   "cell_type": "markdown",
   "id": "bc074ac2-48c8-4bfd-bd5b-b836379a3292",
   "metadata": {},
   "source": [
    "CONCLUSION"
   ]
  },
  {
   "cell_type": "markdown",
   "id": "885f10e4-921c-4b8b-a3cf-7f848d29a650",
   "metadata": {},
   "source": [
    "NumPy is a powerful and essential library in Python for numerical computations and data analysis. Its core functionalities and features significantly enhance the efficiency and performance of handling numerical data.NumPy’s role in data science and numerical computing cannot be overstated. It addresses the challenges of handling large datasets, performing complex calculations, and conducting in-depth data analysis. Its optimized array structures, vectorized operations, and advanced mathematical functions make it a go-to tool for data scientists, researchers, and analysts. By leveraging NumPy, professionals can achieve faster computations, clearer data manipulation, and more insightful analyses, ultimately driving better decision-making and innovation across various domains.\n",
    "\n",
    "\n",
    "\n",
    "\n",
    "\n",
    "\n",
    "\n",
    "\n",
    "\n"
   ]
  },
  {
   "cell_type": "code",
   "execution_count": null,
   "id": "7ad50033-2f69-4aea-9eb1-241b1e0adb97",
   "metadata": {},
   "outputs": [],
   "source": []
  }
 ],
 "metadata": {
  "kernelspec": {
   "display_name": "Python 3 (ipykernel)",
   "language": "python",
   "name": "python3"
  },
  "language_info": {
   "codemirror_mode": {
    "name": "ipython",
    "version": 3
   },
   "file_extension": ".py",
   "mimetype": "text/x-python",
   "name": "python",
   "nbconvert_exporter": "python",
   "pygments_lexer": "ipython3",
   "version": "3.12.4"
  }
 },
 "nbformat": 4,
 "nbformat_minor": 5
}
